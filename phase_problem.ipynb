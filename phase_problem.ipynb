{
 "cells": [
  {
   "cell_type": "code",
   "execution_count": 5,
   "id": "faf417e8",
   "metadata": {},
   "outputs": [],
   "source": [
    "import numpy as np"
   ]
  },
  {
   "cell_type": "code",
   "execution_count": 22,
   "id": "01ff9486",
   "metadata": {},
   "outputs": [
    {
     "data": {
      "text/plain": [
       "45.0"
      ]
     },
     "execution_count": 22,
     "metadata": {},
     "output_type": "execute_result"
    }
   ],
   "source": [
    "np.angle(1+1j, deg=True)"
   ]
  },
  {
   "cell_type": "code",
   "execution_count": 23,
   "id": "ce9dc4f6",
   "metadata": {},
   "outputs": [
    {
     "data": {
      "text/plain": [
       "-45.0"
      ]
     },
     "execution_count": 23,
     "metadata": {},
     "output_type": "execute_result"
    }
   ],
   "source": [
    "np.angle(1-1j, deg=True)"
   ]
  },
  {
   "cell_type": "code",
   "execution_count": 24,
   "id": "521feb5a",
   "metadata": {},
   "outputs": [
    {
     "data": {
      "text/plain": [
       "-135.0"
      ]
     },
     "execution_count": 24,
     "metadata": {},
     "output_type": "execute_result"
    }
   ],
   "source": [
    "np.angle(-1-1j, deg=True)"
   ]
  },
  {
   "cell_type": "code",
   "execution_count": 25,
   "id": "e932a7c5",
   "metadata": {},
   "outputs": [
    {
     "data": {
      "text/plain": [
       "135.0"
      ]
     },
     "execution_count": 25,
     "metadata": {},
     "output_type": "execute_result"
    }
   ],
   "source": [
    "np.angle(-1+1j, deg=True)"
   ]
  },
  {
   "cell_type": "code",
   "execution_count": null,
   "id": "5e91396b",
   "metadata": {},
   "outputs": [],
   "source": []
  }
 ],
 "metadata": {
  "kernelspec": {
   "display_name": "Python 3 (ipykernel)",
   "language": "python",
   "name": "python3"
  },
  "language_info": {
   "codemirror_mode": {
    "name": "ipython",
    "version": 3
   },
   "file_extension": ".py",
   "mimetype": "text/x-python",
   "name": "python",
   "nbconvert_exporter": "python",
   "pygments_lexer": "ipython3",
   "version": "3.9.7"
  }
 },
 "nbformat": 4,
 "nbformat_minor": 5
}
