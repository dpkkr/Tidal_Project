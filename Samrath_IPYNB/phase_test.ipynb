{
 "cells": [
  {
   "cell_type": "code",
   "execution_count": 7,
   "id": "51869961-5ae2-4f5e-b0ea-dd2381ac8f52",
   "metadata": {},
   "outputs": [],
   "source": [
    "import pandas as pd\n",
    "import numpy as np\n",
    "\n",
    "# Load the time series data\n",
    "time_series_df = pd.read_excel('output_converted.xlsx')  # adjust the file name and sheet if necessary\n",
    "\n",
    "# Load the Fourier transform data (amplitudes and frequencies)\n",
    "fourier_df = pd.read_excel('magnitudes_amplitudes_frequencies.xlsx')  # adjust the file name and sheet if necessary\n"
   ]
  },
  {
   "cell_type": "code",
   "execution_count": 8,
   "id": "ec3a430e-6fe1-4369-8ce4-a31699471262",
   "metadata": {},
   "outputs": [],
   "source": [
    "time_series = time_series_df['Water Height'].values\n",
    "fourier_coeffs = np.fft.fft(time_series)\n",
    "frequencies = np.fft.fftfreq(len(time_series))\n"
   ]
  },
  {
   "cell_type": "code",
   "execution_count": 9,
   "id": "be8b34bd-0e43-4798-bc25-04ff3464c97d",
   "metadata": {},
   "outputs": [],
   "source": [
    "# Assuming fourier_df has columns 'Amplitude' and 'Frequency'\n",
    "peak_frequencies = fourier_df['Frequency'].values\n",
    "\n",
    "# Finding the indices of the peak frequencies in the Fourier coefficients\n",
    "peak_indices = [np.argmin(np.abs(frequencies - freq)) for freq in peak_frequencies]\n",
    "\n",
    "# Extract the Fourier coefficients at the peak indices\n",
    "peak_fourier_coeffs = fourier_coeffs[peak_indices]\n",
    "\n",
    "# Calculate the phases\n",
    "peak_phases = np.angle(peak_fourier_coeffs)\n",
    "\n",
    "# Add the phases to the DataFrame\n",
    "fourier_df['Phase'] = peak_phases\n",
    "\n",
    "# Save the updated DataFrame\n",
    "fourier_df.to_excel('fourier_peaks_with_phases.xlsx', index=False)\n"
   ]
  },
  {
   "cell_type": "code",
   "execution_count": 11,
   "id": "5a2af7b5-fb5f-4785-a97f-e8bc9c086d53",
   "metadata": {},
   "outputs": [],
   "source": [
    "import pandas as pd\n",
    "import numpy as np\n",
    "\n",
    "# Load the time series data\n",
    "time_series_df = pd.read_excel('output.xlsx')  # adjust the file name and sheet if necessary\n",
    "\n",
    "# Load the Fourier transform data (amplitudes and frequencies)\n",
    "fourier_df = pd.read_excel('magnitudes_amplitudes_frequencies.xlsx')  # adjust the file name and sheet if necessary\n",
    "\n",
    "# Perform the Fourier Transform on the time series data\n",
    "time_series = time_series_df['Water Height'].values\n",
    "fourier_coeffs = np.fft.fft(time_series)\n",
    "frequencies = np.fft.fftfreq(len(time_series))\n",
    "\n",
    "# Assuming fourier_df has columns 'Amplitude' and 'Frequency'\n",
    "peak_frequencies = fourier_df['Frequency'].values\n",
    "\n",
    "# Finding the indices of the peak frequencies in the Fourier coefficients\n",
    "peak_indices = [np.argmin(np.abs(frequencies - freq)) for freq in peak_frequencies]\n",
    "\n",
    "# Extract the Fourier coefficients at the peak indices\n",
    "peak_fourier_coeffs = fourier_coeffs[peak_indices]\n",
    "\n",
    "# Calculate the phases\n",
    "peak_phases = np.angle(peak_fourier_coeffs)\n",
    "\n",
    "# Add the phases to the DataFrame\n",
    "fourier_df['Phase'] = peak_phases\n",
    "\n",
    "# Save the updated DataFrame\n",
    "fourier_df.to_excel('fourier_peaks_with_phases.xlsx', index=False)\n"
   ]
  }
 ],
 "metadata": {
  "kernelspec": {
   "display_name": "Python 3 (ipykernel)",
   "language": "python",
   "name": "python3"
  },
  "language_info": {
   "codemirror_mode": {
    "name": "ipython",
    "version": 3
   },
   "file_extension": ".py",
   "mimetype": "text/x-python",
   "name": "python",
   "nbconvert_exporter": "python",
   "pygments_lexer": "ipython3",
   "version": "3.12.2"
  }
 },
 "nbformat": 4,
 "nbformat_minor": 5
}
