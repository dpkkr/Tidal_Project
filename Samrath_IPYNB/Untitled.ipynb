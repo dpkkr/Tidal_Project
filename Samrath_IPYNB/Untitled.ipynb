{
 "cells": [
  {
   "cell_type": "code",
   "execution_count": 2,
   "id": "dde8e342-f78f-4b19-bb4d-02e5da8834a8",
   "metadata": {},
   "outputs": [],
   "source": [
    "import pandas as pd\n",
    "\n",
    "# Function to multiply each value in columns 1 to 24 by 100\n",
    "def multiply_columns(file_name):\n",
    "    # Read the Excel file\n",
    "    df = pd.read_excel(file_name)\n",
    "\n",
    "    # Multiply each value in columns 1 to 24 by 100\n",
    "    for col in range(1, 25):\n",
    "        df[f'{col}'] = df[f'{col}'] * 100\n",
    "\n",
    "    # Save the modified DataFrame back to Excel\n",
    "    df.to_excel(f\"{file_name}\", index=False)\n",
    "\n",
    "# List of files to process\n",
    "files = ['17_17.xlsx', '17_18.xlsx']\n",
    "\n",
    "# Process each file\n",
    "for file in files:\n",
    "    multiply_columns(file)\n"
   ]
  },
  {
   "cell_type": "code",
   "execution_count": 4,
   "id": "6383e0cf-d243-4d01-b4f5-175408af5596",
   "metadata": {},
   "outputs": [],
   "source": [
    "import pandas as pd\n",
    "\n",
    "# Function to multiply each value in the 'Amplitude' column by 100\n",
    "def multiply_amplitude(file_name):\n",
    "    # Read the Excel file\n",
    "    df = pd.read_excel(file_name)\n",
    "\n",
    "    # Multiply each value in the 'Amplitude' column by 100\n",
    "    df['Amplitude'] = df['Amplitude'] * 100\n",
    "\n",
    "    # Save the modified DataFrame back to Excel\n",
    "    df.to_excel(f\"{file_name}\", index=False)\n",
    "\n",
    "# List of files to process\n",
    "files = ['component_17_17_100.xlsx', 'component_17_18_100.xlsx']\n",
    "\n",
    "# Process each file\n",
    "for file in files:\n",
    "    multiply_amplitude(file)\n"
   ]
  }
 ],
 "metadata": {
  "kernelspec": {
   "display_name": "Python 3 (ipykernel)",
   "language": "python",
   "name": "python3"
  },
  "language_info": {
   "codemirror_mode": {
    "name": "ipython",
    "version": 3
   },
   "file_extension": ".py",
   "mimetype": "text/x-python",
   "name": "python",
   "nbconvert_exporter": "python",
   "pygments_lexer": "ipython3",
   "version": "3.12.2"
  }
 },
 "nbformat": 4,
 "nbformat_minor": 5
}
