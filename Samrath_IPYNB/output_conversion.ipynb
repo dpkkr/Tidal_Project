{
 "cells": [
  {
   "cell_type": "code",
   "execution_count": 2,
   "id": "2e959c84-2ed2-4bbb-b1c6-beadce20a326",
   "metadata": {},
   "outputs": [
    {
     "name": "stdout",
     "output_type": "stream",
     "text": [
      "Dates have been successfully written to output.xlsx\n"
     ]
    }
   ],
   "source": [
    "import pandas as pd\n",
    "import datetime\n",
    "\n",
    "# Define the starting date\n",
    "start_date = datetime.datetime(2000, 1, 1)\n",
    "\n",
    "# Generate a list of dates\n",
    "num_days = 8761  # Number of rows in the Excel file\n",
    "dates = [(start_date + datetime.timedelta(days=i)).strftime('%d/%m/%Y') for i in range(num_days)]\n",
    "\n",
    "# Create a DataFrame with the dates\n",
    "df = pd.DataFrame(dates, columns=['Date'])\n",
    "\n",
    "# Load the existing Excel file\n",
    "file_path = 'output.xlsx'\n",
    "\n",
    "# Use a context manager to write to the Excel file\n",
    "with pd.ExcelWriter(file_path, engine='openpyxl', mode='a', if_sheet_exists='overlay') as writer:\n",
    "    # Write the dates to column B (index 1) starting from row 2 (index 1)\n",
    "    df.to_excel(writer, startrow=1, startcol=1, index=False, header=False)\n",
    "\n",
    "print(f\"Dates have been successfully written to {file_path}\")\n"
   ]
  }
 ],
 "metadata": {
  "kernelspec": {
   "display_name": "Python 3 (ipykernel)",
   "language": "python",
   "name": "python3"
  },
  "language_info": {
   "codemirror_mode": {
    "name": "ipython",
    "version": 3
   },
   "file_extension": ".py",
   "mimetype": "text/x-python",
   "name": "python",
   "nbconvert_exporter": "python",
   "pygments_lexer": "ipython3",
   "version": "3.12.2"
  }
 },
 "nbformat": 4,
 "nbformat_minor": 5
}
