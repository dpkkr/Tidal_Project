{
 "cells": [
  {
   "cell_type": "code",
   "execution_count": 42,
   "id": "59492093-8e73-46dd-a757-e25929b06bc0",
   "metadata": {},
   "outputs": [
    {
     "name": "stdout",
     "output_type": "stream",
     "text": [
      "Standard Deviation: 8.800457781451582\n"
     ]
    }
   ],
   "source": [
    "import pandas as pd\n",
    "import numpy as np\n",
    "\n",
    "# Load the Excel files\n",
    "visakhapatnam_df = pd.read_excel('VISAKHAPATNAM_P2017.xlsx', header=0)\n",
    "seventeen_df = pd.read_excel('17_17.xlsx', header=0)\n",
    "\n",
    "# Assuming 'Date' column might have different naming or formatting issues, \n",
    "# we can inspect and rename the columns if necessary\n",
    "seventeen_df.columns = seventeen_df.columns.str.strip()  # Remove any leading/trailing whitespace\n",
    "\n",
    "# Convert values in columns D, F, H, J from meters to centimeters\n",
    "for col in ['D', 'F', 'H', 'J']:\n",
    "    visakhapatnam_df[col] = visakhapatnam_df[col] * 100\n",
    "\n",
    "# Function to convert time values\n",
    "def convert_time(value):\n",
    "    if pd.isna(value):\n",
    "        return None\n",
    "    value = str(int(value)).zfill(4)\n",
    "    hours = int(value[:2])\n",
    "    minutes = int(value[2:])\n",
    "    return hours + minutes / 60\n",
    "\n",
    "# Apply the time conversion function to columns C, E, G, I\n",
    "for col in ['C', 'E', 'G', 'I']:\n",
    "    visakhapatnam_df[col] = visakhapatnam_df[col].apply(convert_time)\n",
    "\n",
    "# Interpolation function\n",
    "def interpolate(hour, minute, row):\n",
    "    hour_val = row[str(hour+1)]\n",
    "    next_hour_val = row[str(hour + 2)]\n",
    "    interpolated_val = hour_val + (next_hour_val - hour_val) * (minute / 60)\n",
    "    return interpolated_val\n",
    "\n",
    "# Ensure there is a 'Date' column in visakhapatnam_df\n",
    "if 'Date' not in visakhapatnam_df.columns:\n",
    "    visakhapatnam_df['Date'] = pd.date_range(start='1/1/2017', periods=len(visakhapatnam_df), freq='D')\n",
    "\n",
    "# List to store differences\n",
    "differences = []\n",
    "\n",
    "# Perform interpolation and calculate differences\n",
    "for index, row in visakhapatnam_df.iterrows():\n",
    "    date_row = seventeen_df[seventeen_df['Date'] == row['Date']]\n",
    "    if date_row.empty:\n",
    "        continue\n",
    "    date_row = date_row.iloc[0]\n",
    "    for col, meter_col in zip(['C', 'E', 'G'], ['D', 'F', 'H']):\n",
    "        time_value = row[col]\n",
    "        if time_value is None:\n",
    "            continue\n",
    "        hour = int(time_value)\n",
    "        minute = int((time_value - hour) * 60)\n",
    "        interpolated_val = interpolate(hour, minute, date_row)\n",
    "        original_val = row[meter_col]\n",
    "        differences.append(original_val - interpolated_val)\n",
    "\n",
    "# Calculate the standard deviation\n",
    "std_deviation = np.std(differences)\n",
    "\n",
    "print(\"Standard Deviation:\", std_deviation)\n"
   ]
  }
 ],
 "metadata": {
  "kernelspec": {
   "display_name": "Python 3 (ipykernel)",
   "language": "python",
   "name": "python3"
  },
  "language_info": {
   "codemirror_mode": {
    "name": "ipython",
    "version": 3
   },
   "file_extension": ".py",
   "mimetype": "text/x-python",
   "name": "python",
   "nbconvert_exporter": "python",
   "pygments_lexer": "ipython3",
   "version": "3.12.2"
  }
 },
 "nbformat": 4,
 "nbformat_minor": 5
}
