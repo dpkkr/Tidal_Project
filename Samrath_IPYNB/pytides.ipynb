{
 "cells": [
  {
   "cell_type": "code",
   "execution_count": 1,
   "id": "40396d68-dbc2-487a-ad92-8c4dc1375430",
   "metadata": {},
   "outputs": [
    {
     "name": "stdout",
     "output_type": "stream",
     "text": [
      "\u001b[33mDEPRECATION: Loading egg at /home/nawabsahab/miniconda3/lib/python3.12/site-packages/ttide-0.3.dev1-py3.12.egg is deprecated. pip 24.3 will enforce this behaviour change. A possible replacement is to use pip for package installation.. Discussion can be found at https://github.com/pypa/pip/issues/12330\u001b[0m\u001b[33m\n",
      "\u001b[0mRequirement already satisfied: pytides in /home/nawabsahab/miniconda3/lib/python3.12/site-packages (0.0.4)\n",
      "Requirement already satisfied: numpy>=1.8 in /home/nawabsahab/miniconda3/lib/python3.12/site-packages (from pytides) (1.26.4)\n",
      "Requirement already satisfied: scipy>=0.11 in /home/nawabsahab/miniconda3/lib/python3.12/site-packages (from pytides) (1.13.1)\n",
      "Note: you may need to restart the kernel to use updated packages.\n"
     ]
    }
   ],
   "source": [
    "pip install pytides"
   ]
  }
 ],
 "metadata": {
  "kernelspec": {
   "display_name": "Python 3 (ipykernel)",
   "language": "python",
   "name": "python3"
  },
  "language_info": {
   "codemirror_mode": {
    "name": "ipython",
    "version": 3
   },
   "file_extension": ".py",
   "mimetype": "text/x-python",
   "name": "python",
   "nbconvert_exporter": "python",
   "pygments_lexer": "ipython3",
   "version": "3.12.2"
  }
 },
 "nbformat": 4,
 "nbformat_minor": 5
}
